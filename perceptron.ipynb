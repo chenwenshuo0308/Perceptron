{
 "cells": [
  {
   "cell_type": "markdown",
   "source": [
    "#感知机模型我们如果用数学公式来表示他实际上就是权重w和输入向量x的一个点乘，即：\n",
    "![感知机](./img.png)"
   ],
   "metadata": {
    "collapsed": false,
    "pycharm": {
     "name": "#%% md\n"
    }
   }
  },
  {
   "cell_type": "markdown",
   "source": [
    "第一个：输入部分；\n",
    "\n",
    "第二个：权重（就是w向量）；权重是在我们进行训练期间计算的值，初始呢我们是用一些初始值来可以进行随机的初始化，然后在学习过程当中对他们进行更新，最后我们模型学习完之后，这就是我们学习到的参数向量。我们用w来表示。\n",
    "\n",
    "第三个：偏置；这个偏置对应到上图在输入里边我们有一个常量1，实际上这个常量1就相当于乘以1，实际上就是，，后边的计算是和输入是无关的，相当于就是一个偏置，相当于i从1开始一直到n，还加上一个，这就是一个偏置。\n"
   ],
   "metadata": {
    "collapsed": false,
    "pycharm": {
     "name": "#%% md\n"
    }
   }
  },
  {
   "cell_type": "markdown",
   "source": [
    "![感知机模型](img_1.png)"
   ],
   "metadata": {
    "collapsed": false,
    "pycharm": {
     "name": "#%% md\n"
    }
   }
  },
  {
   "cell_type": "markdown",
   "source": [
    "第四个：加权；\n",
    "\n",
    "第五个：输出；"
   ],
   "metadata": {
    "collapsed": false,
    "pycharm": {
     "name": "#%% md\n"
    }
   }
  },
  {
   "cell_type": "markdown",
   "source": [
    "感知机学习的目标是求得一个能够将训练数据集正实例点和负实例点完全正确分开的分离超平面。如果是非线性可分的数据，则最后无法获得超平面。"
   ],
   "metadata": {
    "collapsed": false,
    "pycharm": {
     "name": "#%% md\n"
    }
   }
  },
  {
   "cell_type": "code",
   "execution_count": 35,
   "outputs": [],
   "source": [
    "import pandas as pd  #数据分析库\n",
    "import numpy as np  #数值计算扩展，用来存储和处理大型矩阵\n",
    "import matplotlib.pyplot as plt  #导入画图工具包\n",
    "from sklearn.datasets import load_iris\n",
    "import torch.nn as nn\n",
    "from sklearn.model_selection import train_test_split"
   ],
   "metadata": {
    "collapsed": false,
    "pycharm": {
     "name": "#%%\n"
    }
   }
  },
  {
   "cell_type": "markdown",
   "source": [
    "从机器学习包中导入load_iris数据集\n",
    "ris数据集的中文名是安德森鸢尾花卉数据集，英文全称是Anderson’s Iris data set\n",
    "iris包含150个样本，对应数据集的每行数据\n",
    "每行数据包含每个样本的四个特征(花萼长度、花萼宽度、花瓣长度、花瓣宽度)和样本的类别信息(targe)\n",
    "iris数据集是一个150行5列的二维表\n",
    "\n",
    "\n"
   ],
   "metadata": {
    "collapsed": false,
    "pycharm": {
     "name": "#%% md\n"
    }
   }
  },
  {
   "cell_type": "code",
   "execution_count": 36,
   "outputs": [
    {
     "name": "stdout",
     "output_type": "stream",
     "text": [
      "    sepal length (cm)  sepal width (cm)  petal length (cm)  petal width (cm)\n",
      "0                 5.1               3.5                1.4               0.2\n",
      "1                 4.9               3.0                1.4               0.2\n",
      "2                 4.7               3.2                1.3               0.2\n",
      "3                 4.6               3.1                1.5               0.2\n",
      "4                 5.0               3.6                1.4               0.2\n",
      "..                ...               ...                ...               ...\n",
      "95                5.7               3.0                4.2               1.2\n",
      "96                5.7               2.9                4.2               1.3\n",
      "97                6.2               2.9                4.3               1.3\n",
      "98                5.1               2.5                3.0               1.1\n",
      "99                5.7               2.8                4.1               1.3\n",
      "\n",
      "[100 rows x 4 columns]\n"
     ]
    }
   ],
   "source": [
    "iris = load_iris()  #导入数据\n",
    "dataframe = pd.DataFrame(iris.data, columns=iris.feature_names)\n",
    "dataframe = dataframe[:100]\n",
    "print(dataframe)"
   ],
   "metadata": {
    "collapsed": false,
    "pycharm": {
     "name": "#%%\n"
    }
   }
  },
  {
   "cell_type": "markdown",
   "source": [
    "将iris中前100个的每个样本的四个特征(花萼长度、花萼宽度、花瓣长度、花瓣宽度)放入dataframe矩阵中\n",
    "DataFrame介绍：https://www.jianshu.com/p/8024ceef4fe2"
   ],
   "metadata": {
    "collapsed": false,
    "pycharm": {
     "name": "#%% md\n"
    }
   }
  },
  {
   "cell_type": "code",
   "execution_count": 37,
   "outputs": [
    {
     "name": "stdout",
     "output_type": "stream",
     "text": [
      "Index(['sepal length (cm)', 'sepal width (cm)', 'petal length (cm)',\n",
      "       'petal width (cm)', 'label'],\n",
      "      dtype='object')\n",
      "    sepal length  sepal width  petal length  petal width  label\n",
      "0            5.1          3.5           1.4          0.2      0\n",
      "1            4.9          3.0           1.4          0.2      0\n",
      "2            4.7          3.2           1.3          0.2      0\n",
      "3            4.6          3.1           1.5          0.2      0\n",
      "4            5.0          3.6           1.4          0.2      0\n",
      "..           ...          ...           ...          ...    ...\n",
      "95           5.7          3.0           4.2          1.2      1\n",
      "96           5.7          2.9           4.2          1.3      1\n",
      "97           6.2          2.9           4.3          1.3      1\n",
      "98           5.1          2.5           3.0          1.1      1\n",
      "99           5.7          2.8           4.1          1.3      1\n",
      "\n",
      "[100 rows x 5 columns]\n"
     ]
    }
   ],
   "source": [
    "dataframe['label'] = iris.target[:100]\n",
    "print(dataframe.columns)\n",
    "dataframe.columns = ['sepal length', 'sepal width', 'petal length', 'petal width', 'label']\n",
    "print(dataframe)"
   ],
   "metadata": {
    "collapsed": false,
    "pycharm": {
     "name": "#%%\n"
    }
   }
  },
  {
   "cell_type": "markdown",
   "source": [
    "将样本的真实类别记录在dataframe的label下\n",
    "对dataframe的标签名字进行格式统一"
   ],
   "metadata": {
    "collapsed": false,
    "pycharm": {
     "name": "#%% md\n"
    }
   }
  },
  {
   "cell_type": "code",
   "execution_count": 38,
   "outputs": [
    {
     "data": {
      "text/plain": "<Figure size 1080x576 with 1 Axes>",
      "image/png": "[encoded data removed]"
     },
     "metadata": {
      "needs_background": "light"
     },
     "output_type": "display_data"
    }
   ],
   "source": [
    "plt.figure(figsize=(15, 8))\n",
    "plt.subplot(131)\n",
    "plt.scatter(dataframe[:50]['sepal length'], dataframe[:50]['sepal width'], label='0')\n",
    "plt.scatter(dataframe[50:100]['sepal length'], dataframe[50:100]['sepal width'], label='1')\n",
    "#subplot绘制多个子图\n",
    "plt.xlabel('sepal length')\n",
    "plt.ylabel('sepal width')\n",
    "plt.title('original data')\n",
    "plt.legend()\n",
    "plt.show()"
   ],
   "metadata": {
    "collapsed": false,
    "pycharm": {
     "name": "#%%\n"
    }
   }
  },
  {
   "cell_type": "code",
   "execution_count": 38,
   "outputs": [],
   "source": [],
   "metadata": {
    "collapsed": false,
    "pycharm": {
     "name": "#%%\n"
    }
   }
  },
  {
   "cell_type": "code",
   "execution_count": 91,
   "outputs": [
    {
     "name": "stdout",
     "output_type": "stream",
     "text": [
      "(80, 2) (80,)\n"
     ]
    }
   ],
   "source": [
    "\n",
    "\n",
    "data = np.array(dataframe.iloc[:, [0, 1, -1]])\n",
    "# print(data)\n",
    "x_data, y_data = data[:, :-1], data[:, -1]\n",
    "#令X等于'sepal length','sepal width'的100个二维数据，令y等于100个类别（只有-1,1）\n",
    "y_data = np.array([1 if i == 1 else -1 for i in y_data])\n",
    "\n",
    "# print(x_data)\n",
    "# print(y_data)\n",
    "x_train, x_test, y_train, y_test = train_test_split(x_data, y_data, test_size=0.2, random_state=0)\n",
    "print(x_train.shape, y_train.shape)"
   ],
   "metadata": {
    "collapsed": false,
    "pycharm": {
     "name": "#%%\n"
    }
   }
  },
  {
   "cell_type": "code",
   "execution_count": 97,
   "outputs": [],
   "source": [
    "class Perceptron:\n",
    "    def __init__(self,n_iter=20,eta=0.1):\n",
    "        self.w = np.ones(len(data[0]) - 1, dtype=np.float32)\n",
    "        self.b = 0\n",
    "        self.learning_rate = eta\n",
    "        self.epochs=n_iter\n",
    "        self.errors_ = []\n",
    "        #ones在这生成一个比data列数少1的数组，此处data[0]表示data的第1行，len表示长度\n",
    "        #选取w,b和学习率l_rate的初值\n",
    "\n",
    "    def sign(self, x, w, b):\n",
    "        \"\"\"\n",
    "        感知机公式\n",
    "        :param x: 输入\n",
    "        :param w: 权重\n",
    "        :param b: 偏置\n",
    "        :return: 输出超平面划分\n",
    "        \"\"\"\n",
    "        y = np.dot(x, w) + b\n",
    "        return y\n",
    "    def step(self, z):\n",
    "        \"\"\"阶跃函数。对净输入进行转换。\n",
    "\n",
    "        Parameter:\n",
    "        -----\n",
    "        z: 标量或数组类型\n",
    "            净输入。\n",
    "\n",
    "        Return:\n",
    "        ------\n",
    "        t: 变量或数组类型。\n",
    "            分类的结果。-1或者1。当z >= 0时，返回1，否则返回-1。\n",
    "        \"\"\"\n",
    "        return np.where(z >= 0, 1, -1)\n",
    "\n",
    "\n",
    "    def fit(self, x_train, y_train):\n",
    "       for i in range(self.epochs):\n",
    "            wrong_count = 0\n",
    "            for d in range(len(x_train)):\n",
    "                x = x_train[d]\n",
    "                y = y_train[d]#实际类别\n",
    "                y_hat=self.step(self.sign(x, self.w, self.b))#感知机的划分\n",
    "                if y * y_hat <= 0:#类别不一样\n",
    "                    self.w = self.w + self.learning_rate * np.dot(y-y_hat, x)  # 调整权重\n",
    "                    self.b = self.b + self.learning_rate * (y-y_hat ) # 调整偏置\n",
    "                    wrong_count += 1\n",
    "            self.errors_.append(wrong_count)\n",
    "       return 'Perceptron Model!'\n",
    "\n",
    "    def predict(self, x):\n",
    "        \"\"\"预测方法。根据提供的数据集X，返回每一个样本对应的标签（分类）。\n",
    "\n",
    "        Parameter:\n",
    "        -----\n",
    "        X: 类数组类型。形状为 (样本数量, 特征数量)\n",
    "            提供预测集。\n",
    "\n",
    "        Return：\n",
    "        -----\n",
    "        label: 类数组类型。形状为：(样本数量,)\n",
    "            预测的每一个便签分类。\n",
    "        \"\"\"\n",
    "        x_pred = np.asarray(x)\n",
    "        # 计算净输入。(矢量化计算，没有使用循环分别对每一个样本求净输出)\n",
    "        z = np.dot(x_pred, self.w) + self.b\n",
    "        # 获取最终的分类结果。（一维数组类型。）\n",
    "        result = self.step(z)\n",
    "        return result\n",
    "\n"
   ],
   "metadata": {
    "collapsed": false,
    "pycharm": {
     "name": "#%%\n"
    }
   }
  },
  {
   "cell_type": "code",
   "execution_count": 98,
   "outputs": [
    {
     "data": {
      "text/plain": "'Perceptron Model!'"
     },
     "execution_count": 98,
     "metadata": {},
     "output_type": "execute_result"
    }
   ],
   "source": [
    "perceptron = Perceptron()\n",
    "perceptron.fit(x_train, y_train)"
   ],
   "metadata": {
    "collapsed": false,
    "pycharm": {
     "name": "#%%\n"
    }
   }
  },
  {
   "cell_type": "code",
   "execution_count": 99,
   "outputs": [
    {
     "data": {
      "text/plain": "<Figure size 432x288 with 1 Axes>",
      "image/png": "[encoded data removed]"
     },
     "metadata": {
      "needs_background": "light"
     },
     "output_type": "display_data"
    }
   ],
   "source": [
    "#出图看一眼错误数目\n",
    "plt.plot(range(1, len(perceptron.errors_) + 1), perceptron.errors_, marker='o')\n",
    "plt.xlabel('Epochs')\n",
    "plt.ylabel('Number of updates')\n",
    "plt.show()"
   ],
   "metadata": {
    "collapsed": false,
    "pycharm": {
     "name": "#%%\n"
    }
   }
  },
  {
   "cell_type": "code",
   "execution_count": 102,
   "outputs": [
    {
     "data": {
      "text/plain": "<Figure size 1080x576 with 1 Axes>",
      "image/png": "[encoded data removed]"
     },
     "metadata": {
      "needs_background": "light"
     },
     "output_type": "display_data"
    }
   ],
   "source": [
    "plt.figure(figsize=(15, 8))\n",
    "x_points=x_train[:,0]\n",
    "#从4到7之间创建10个等差序列，包括7\n",
    "#linspace的用法:https://blog.csdn.net/weixin_40103118/article/details/78787454\n",
    "y= -(perceptron.w[0]*x_points + perceptron.b)/perceptron.w[1]\n",
    "plt.subplot(132)\n",
    "plt.plot(x_points, y)\n",
    "plt.scatter(data[:50, 0], data[:50, 1], color='blue', label='-1')\n",
    "plt.scatter(data[50:100, 0], data[50:100, 1], color='orange', label='1')\n",
    "plt.xlabel('sepal length')\n",
    "plt.ylabel('sepal width')\n",
    "plt.title('perceptron byhand')\n",
    "plt.legend()\n",
    "plt.show()\n"
   ],
   "metadata": {
    "collapsed": false,
    "pycharm": {
     "name": "#%%\n"
    }
   }
  },
  {
   "cell_type": "markdown",
   "source": [
    "sklearn 实现感知机"
   ],
   "metadata": {
    "collapsed": false,
    "pycharm": {
     "name": "#%% md\n"
    }
   }
  },
  {
   "cell_type": "code",
   "execution_count": null,
   "outputs": [],
   "source": [],
   "metadata": {
    "collapsed": false,
    "pycharm": {
     "name": "#%%\n"
    }
   }
  },
  {
   "cell_type": "code",
   "execution_count": 108,
   "outputs": [
    {
     "name": "stdout",
     "output_type": "stream",
     "text": [
      "[[ 30.2 -48. ]]\n",
      "[-9.]\n"
     ]
    },
    {
     "data": {
      "text/plain": "<Figure size 1080x576 with 1 Axes>",
      "image/png": "[encoded data removed]"
     },
     "metadata": {
      "needs_background": "light"
     },
     "output_type": "display_data"
    }
   ],
   "source": [
    "from sklearn.linear_model import Perceptron\n",
    "clf = Perceptron(fit_intercept=True, max_iter=1000, shuffle=True)\n",
    "#fit_intercept表示是否保留截距\n",
    "clf.fit(x_train, y_train)\n",
    "\n",
    "print(clf.coef_)\n",
    "#输出系数w\n",
    "print(clf.intercept_)\n",
    "#输出截距b\n",
    "x_ponits = np.arange(4, 8)\n",
    "y_ = -(clf.coef_[0][0]*x_ponits + clf.intercept_)/clf.coef_[0][1]\n",
    "#根据上面的结果得到了方程，画图时根据w1x1+w2x2+b=0进行画图\n",
    "#由于画图时是二维的，这里的横轴x表示x1即第一个特征，纵轴y表示x2即第二个特征\n",
    "plt.figure(figsize=(15, 8))\n",
    "plt.subplot(133)\n",
    "plt.plot(x_ponits, y_)\n",
    "\n",
    "plt.plot(data[:50, 0], data[:50, 1], 'o', color='blue', label='0')\n",
    "plt.plot(data[50:100, 0], data[50:100, 1], 'o', color='orange', label='1')\n",
    "plt.xlabel('sepal length')\n",
    "plt.ylabel('sepal width')\n",
    "plt.title('perceptron by sklearn')\n",
    "plt.legend()\n",
    "\n",
    "plt.subplots_adjust(top=0.92, bottom=0.08, left=0.10, right=0.95, hspace=0.25,wspace=0.35)\n",
    "#调整子图间距\n",
    "plt.savefig(\"demo.jpg\")\n",
    "plt.show()\n"
   ],
   "metadata": {
    "collapsed": false,
    "pycharm": {
     "name": "#%%\n"
    }
   }
  },
  {
   "cell_type": "markdown",
   "source": [
    "pytorch 实现感知机"
   ],
   "metadata": {
    "collapsed": false,
    "pycharm": {
     "name": "#%% md\n"
    }
   }
  },
  {
   "cell_type": "code",
   "execution_count": 156,
   "outputs": [],
   "source": [
    "import torch\n",
    "import torch.nn as nn\n",
    "import torch.functional as F\n",
    "y_data = np.array([1 if i == 1 else 0 for i in y_data])\n",
    "\n",
    "# print(x_data)\n",
    "# print(y_data)\n",
    "x_train, x_test, y_train, y_test = train_test_split(x_data, y_data, test_size=0.2, random_state=0)"
   ],
   "metadata": {
    "collapsed": false,
    "pycharm": {
     "name": "#%%\n"
    }
   }
  },
  {
   "cell_type": "code",
   "execution_count": 157,
   "outputs": [
    {
     "name": "stdout",
     "output_type": "stream",
     "text": [
      "Perceptron2(\n",
      "  (perceptron): Linear(in_features=2, out_features=2, bias=True)\n",
      ")\n"
     ]
    }
   ],
   "source": [
    "class Perceptron2(nn.Module):\n",
    "    def __init__(self):\n",
    "        super(Perceptron2, self).__init__()\n",
    "        self.perceptron=nn.Linear(2,2)\n",
    "\n",
    "\n",
    "\n",
    "    def forward(self, x):\n",
    "        output = self.perceptron(x)\n",
    "        output=torch.sigmoid(output)\n",
    "        return output    # return x for visualization\n",
    "\n",
    "\n",
    "perceptron=Perceptron2()\n",
    "print(perceptron)  # net architecture\n",
    "EPOCH = 10              # train the training data n times, to save time, we just train 1 epoch\n",
    "LR = 0.001\n",
    "optimizer = torch.optim.Adam(perceptron.parameters(), lr=LR)   # optimize all logistic parameters\n",
    "loss_func = nn.CrossEntropyLoss()                       # the target label is not one-hotted\n"
   ],
   "metadata": {
    "collapsed": false,
    "pycharm": {
     "name": "#%%\n"
    }
   }
  },
  {
   "cell_type": "code",
   "execution_count": 167,
   "outputs": [
    {
     "name": "stdout",
     "output_type": "stream",
     "text": [
      "torch.return_types.max(\n",
      "values=tensor([0.8909, 0.9454, 0.8820, 0.9204, 0.9445, 0.9054, 0.9071, 0.9339, 0.9452,\n",
      "        0.9156, 0.9247, 0.9284, 0.9286, 0.8712, 0.8909, 0.8806, 0.8913, 0.8886,\n",
      "        0.9144, 0.8696], grad_fn=<MaxBackward0>),\n",
      "indices=tensor([0, 1, 0, 1, 1, 1, 0, 1, 1, 1, 1, 1, 1, 0, 0, 0, 0, 0, 0, 0])) prediction number\n",
      "[0 1 0 1 1 1 0 1 1 1 1 1 1 0 0 0 0 0 0 0] real number\n"
     ]
    }
   ],
   "source": [
    "for epoch in range(EPOCH):\n",
    "\n",
    "        # print(b_x.size())\n",
    "       # b_x = b_x.view(-1, 28*28)\n",
    "        # print(b_x.size())\n",
    "        b_x=torch.Tensor(x_train)\n",
    "        b_y=torch.tensor(y_train,dtype=torch.long)\n",
    "        output = perceptron(b_x)              # logistic output\n",
    "        loss = loss_func(output, b_y)   # cross entropy loss\n",
    "        optimizer.zero_grad()           # clear gradients for this training step\n",
    "        loss.backward()                 # backpropagation, compute gradients\n",
    "        optimizer.step()                # apply gradients\n",
    "\n",
    "\n",
    "test_output= perceptron(torch.tensor(x_test,dtype=torch.float32))\n",
    "pred_y = torch.max(test_output,1 )\n",
    "print(pred_y, 'prediction number')\n",
    "print(y_test, 'real number')"
   ],
   "metadata": {
    "collapsed": false,
    "pycharm": {
     "name": "#%%\n"
    }
   }
  },
  {
   "cell_type": "code",
   "execution_count": 186,
   "outputs": [
    {
     "name": "stdout",
     "output_type": "stream",
     "text": [
      "tensor([0, 1, 0, 1, 1, 1, 0, 1, 1, 1, 1, 1, 1, 0, 0, 0, 0, 0, 0, 0])\n",
      "Accuracy of the network on the 20 test : 100 %\n"
     ]
    }
   ],
   "source": [
    "correct = 0\n",
    "total = 0\n",
    "with torch.no_grad():\n",
    "        x_test=torch.Tensor(x_test)\n",
    "        outputs = perceptron(x_test)\n",
    "        labels=torch.Tensor(y_test)\n",
    "        _,predicted = torch.max(outputs.data, 1)\n",
    "        print(predicted)\n",
    "        total=labels.size(0)\n",
    "        correct += (predicted == labels).sum().item()\n",
    "\n",
    "print('Accuracy of the network on the 20 test : %d %%' % (\n",
    "    100 * correct / total))"
   ],
   "metadata": {
    "collapsed": false,
    "pycharm": {
     "name": "#%%\n"
    }
   }
  },
  {
   "cell_type": "code",
   "execution_count": 117,
   "outputs": [],
   "source": [],
   "metadata": {
    "collapsed": false,
    "pycharm": {
     "name": "#%%\n"
    }
   }
  }
 ],
 "metadata": {
  "kernelspec": {
   "display_name": "Python 3",
   "language": "python",
   "name": "python3"
  },
  "language_info": {
   "codemirror_mode": {
    "name": "ipython",
    "version": 2
   },
   "file_extension": ".py",
   "mimetype": "text/x-python",
   "name": "python",
   "nbconvert_exporter": "python",
   "pygments_lexer": "ipython2",
   "version": "2.7.6"
  }
 },
 "nbformat": 4,
 "nbformat_minor": 0
}